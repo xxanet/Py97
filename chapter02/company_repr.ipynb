{
 "cells": [
  {
   "cell_type": "code",
   "execution_count": null,
   "metadata": {
    "collapsed": true
   },
   "outputs": [],
   "source": [
    "class Company(object):\n",
    "    def __init__(self, employee_list):\n",
    "        self.employee = employee_list\n",
    "\n",
    "    def __getitem__(self, item):\n",
    "        \"\"\"任意一个类都可以添加魔法函数，返回item位置的值\"\"\"\n",
    "        return self.employee[item]\n",
    "\n",
    "    def __len__(self):\n",
    "        return len(self.employee)\n",
    "\n",
    "    def __str__(self):\n",
    "        \"\"\"打印时\"\"\"\n",
    "        return \",\".join(self.employee)\n",
    "\n",
    "    def __repr__(self):\n",
    "        \"\"\"shell中\"\"\"\n",
    "        return \"shell: \" + \",\".join(self.employee)\n",
    "\n",
    "\n",
    "company = Company([\"tom\", \"bob\", \"jane\"])"
   ]
  }
 ],
 "metadata": {
  "kernelspec": {
   "display_name": "Python 2",
   "language": "python",
   "name": "python2"
  },
  "language_info": {
   "codemirror_mode": {
    "name": "ipython",
    "version": 2
   },
   "file_extension": ".py",
   "mimetype": "text/x-python",
   "name": "python",
   "nbconvert_exporter": "python",
   "pygments_lexer": "ipython2",
   "version": "2.7.6"
  }
 },
 "nbformat": 4,
 "nbformat_minor": 0
}
